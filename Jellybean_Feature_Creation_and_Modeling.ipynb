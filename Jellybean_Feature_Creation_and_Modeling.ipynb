{
 "cells": [
  {
   "cell_type": "code",
   "execution_count": 2,
   "id": "fe54822b",
   "metadata": {},
   "outputs": [],
   "source": [
    "import matplotlib.pyplot as plt"
   ]
  },
  {
   "cell_type": "code",
   "execution_count": 3,
   "id": "0ef37b1b",
   "metadata": {},
   "outputs": [],
   "source": [
    "import os"
   ]
  },
  {
   "cell_type": "code",
   "execution_count": 4,
   "id": "7c094681",
   "metadata": {},
   "outputs": [
    {
     "data": {
      "text/plain": [
       "'D:\\\\Jellybean\\\\Second_Attempt'"
      ]
     },
     "execution_count": 4,
     "metadata": {},
     "output_type": "execute_result"
    }
   ],
   "source": [
    "os.getcwd()"
   ]
  },
  {
   "cell_type": "code",
   "execution_count": 5,
   "id": "b7898541",
   "metadata": {},
   "outputs": [],
   "source": [
    "image_folder = os.path.join(os.getcwd(), \"Split_Images\")"
   ]
  },
  {
   "cell_type": "code",
   "execution_count": 6,
   "id": "aa229cc0",
   "metadata": {},
   "outputs": [],
   "source": [
    "all_images = os.listdir(image_folder)"
   ]
  },
  {
   "cell_type": "code",
   "execution_count": 7,
   "id": "9a0954e4",
   "metadata": {},
   "outputs": [
    {
     "data": {
      "text/plain": [
       "6646"
      ]
     },
     "execution_count": 7,
     "metadata": {},
     "output_type": "execute_result"
    }
   ],
   "source": [
    "len(all_images)"
   ]
  },
  {
   "cell_type": "code",
   "execution_count": 8,
   "id": "e87fc1bc",
   "metadata": {},
   "outputs": [],
   "source": [
    "from tqdm.notebook import tqdm"
   ]
  },
  {
   "cell_type": "code",
   "execution_count": 9,
   "id": "c7b2ddd4",
   "metadata": {},
   "outputs": [],
   "source": [
    "import random"
   ]
  },
  {
   "cell_type": "code",
   "execution_count": 10,
   "id": "16767b0f",
   "metadata": {},
   "outputs": [],
   "source": [
    "random.shuffle(all_images)"
   ]
  },
  {
   "cell_type": "code",
   "execution_count": 11,
   "id": "fc27316a",
   "metadata": {},
   "outputs": [
    {
     "data": {
      "application/vnd.jupyter.widget-view+json": {
       "model_id": "42acfcea4ef645cfb2795d20ba940229",
       "version_major": 2,
       "version_minor": 0
      },
      "text/plain": [
       "  0%|          | 0/6646 [00:00<?, ?it/s]"
      ]
     },
     "metadata": {},
     "output_type": "display_data"
    }
   ],
   "source": [
    "catch_df = []\n",
    "\n",
    "for img in tqdm(all_images): \n",
    "    img_arr = plt.imread(os.path.join(image_folder, img))\n",
    "    shape = img_arr.shape\n",
    "    dict1 = {\"img_name\": img, \"height\": shape[0], \"width\": shape[1]}\n",
    "    catch_df.append(dict1)"
   ]
  },
  {
   "cell_type": "code",
   "execution_count": 12,
   "id": "5df314af",
   "metadata": {},
   "outputs": [],
   "source": [
    "import pandas as pd"
   ]
  },
  {
   "cell_type": "code",
   "execution_count": 13,
   "id": "2d22d3db",
   "metadata": {},
   "outputs": [],
   "source": [
    "catch_df_df = pd.DataFrame(catch_df)"
   ]
  },
  {
   "cell_type": "code",
   "execution_count": 14,
   "id": "1808b143",
   "metadata": {},
   "outputs": [
    {
     "data": {
      "text/html": [
       "<div>\n",
       "<style scoped>\n",
       "    .dataframe tbody tr th:only-of-type {\n",
       "        vertical-align: middle;\n",
       "    }\n",
       "\n",
       "    .dataframe tbody tr th {\n",
       "        vertical-align: top;\n",
       "    }\n",
       "\n",
       "    .dataframe thead th {\n",
       "        text-align: right;\n",
       "    }\n",
       "</style>\n",
       "<table border=\"1\" class=\"dataframe\">\n",
       "  <thead>\n",
       "    <tr style=\"text-align: right;\">\n",
       "      <th></th>\n",
       "      <th>img_name</th>\n",
       "      <th>height</th>\n",
       "      <th>width</th>\n",
       "    </tr>\n",
       "  </thead>\n",
       "  <tbody>\n",
       "    <tr>\n",
       "      <th>0</th>\n",
       "      <td>chili_mango_142.jpg</td>\n",
       "      <td>712</td>\n",
       "      <td>448</td>\n",
       "    </tr>\n",
       "    <tr>\n",
       "      <th>1</th>\n",
       "      <td>sizzling_cinnamon_71.jpg</td>\n",
       "      <td>661</td>\n",
       "      <td>529</td>\n",
       "    </tr>\n",
       "    <tr>\n",
       "      <th>2</th>\n",
       "      <td>sunkist_tangerine_115.jpg</td>\n",
       "      <td>566</td>\n",
       "      <td>513</td>\n",
       "    </tr>\n",
       "    <tr>\n",
       "      <th>3</th>\n",
       "      <td>dr_pepper_16.jpg</td>\n",
       "      <td>582</td>\n",
       "      <td>643</td>\n",
       "    </tr>\n",
       "    <tr>\n",
       "      <th>4</th>\n",
       "      <td>peach_120.jpg</td>\n",
       "      <td>728</td>\n",
       "      <td>404</td>\n",
       "    </tr>\n",
       "  </tbody>\n",
       "</table>\n",
       "</div>"
      ],
      "text/plain": [
       "                    img_name  height  width\n",
       "0        chili_mango_142.jpg     712    448\n",
       "1   sizzling_cinnamon_71.jpg     661    529\n",
       "2  sunkist_tangerine_115.jpg     566    513\n",
       "3           dr_pepper_16.jpg     582    643\n",
       "4              peach_120.jpg     728    404"
      ]
     },
     "execution_count": 14,
     "metadata": {},
     "output_type": "execute_result"
    }
   ],
   "source": [
    "catch_df_df.head()"
   ]
  },
  {
   "cell_type": "code",
   "execution_count": 15,
   "id": "140a5799",
   "metadata": {},
   "outputs": [],
   "source": [
    "catch_df_df = catch_df_df[(catch_df_df[\"height\"] > 50) & (catch_df_df[\"width\"] > 50)]"
   ]
  },
  {
   "cell_type": "code",
   "execution_count": 16,
   "id": "8e612945",
   "metadata": {},
   "outputs": [],
   "source": [
    "catch_df_df[\"flavor\"] = [name.split(\".\")[0] for name in catch_df_df[\"img_name\"]]"
   ]
  },
  {
   "cell_type": "code",
   "execution_count": 17,
   "id": "7e034a31",
   "metadata": {},
   "outputs": [],
   "source": [
    "catch_df_df[\"flavor\"] = [''.join([i for i in name if not i.isdigit()])[:-1] for name in catch_df_df[\"flavor\"]]"
   ]
  },
  {
   "cell_type": "code",
   "execution_count": 18,
   "id": "dce5145d",
   "metadata": {},
   "outputs": [
    {
     "data": {
      "text/plain": [
       "0             chili_mango\n",
       "1       sizzling_cinnamon\n",
       "2       sunkist_tangerine\n",
       "3               dr_pepper\n",
       "4                   peach\n",
       "              ...        \n",
       "6641          pomegranate\n",
       "6642           cantaloupe\n",
       "6643          chili_mango\n",
       "6644      wild_blackberry\n",
       "6645            raspberry\n",
       "Name: flavor, Length: 6584, dtype: object"
      ]
     },
     "execution_count": 18,
     "metadata": {},
     "output_type": "execute_result"
    }
   ],
   "source": [
    "catch_df_df[\"flavor\"]"
   ]
  },
  {
   "cell_type": "code",
   "execution_count": 19,
   "id": "a2bebc59",
   "metadata": {},
   "outputs": [],
   "source": [
    "from collections import Counter"
   ]
  },
  {
   "cell_type": "code",
   "execution_count": 20,
   "id": "81ddd6af",
   "metadata": {},
   "outputs": [
    {
     "data": {
      "text/plain": [
       "Counter({'chili_mango': 161,\n",
       "         'sizzling_cinnamon': 100,\n",
       "         'sunkist_tangerine': 121,\n",
       "         'dr_pepper': 100,\n",
       "         'peach': 143,\n",
       "         'cantaloupe': 190,\n",
       "         'margarita': 133,\n",
       "         'island_punch': 173,\n",
       "         'sunkist_lemon': 88,\n",
       "         'strawberry_cheesecake': 170,\n",
       "         'mixed_berry_smoothie': 208,\n",
       "         'licorice': 100,\n",
       "         'wild_blackberry': 155,\n",
       "         'sunkist_orange': 100,\n",
       "         'cotton_candy': 110,\n",
       "         'aw_root_beer': 110,\n",
       "         'french_vanilla': 102,\n",
       "         'plum': 110,\n",
       "         'mango': 164,\n",
       "         'tutti_fruitti': 158,\n",
       "         'berry_blue': 76,\n",
       "         'lemon_lime': 208,\n",
       "         'cinnamon': 174,\n",
       "         'toasted_marshmallow': 163,\n",
       "         'coconut': 110,\n",
       "         'kiwi': 115,\n",
       "         'aw_cream_soda': 233,\n",
       "         'strawberry_daquiry': 110,\n",
       "         'caramel_corn': 121,\n",
       "         'juicy_pear': 109,\n",
       "         'red_apple': 120,\n",
       "         'sour_cherry': 110,\n",
       "         'pina_colada': 110,\n",
       "         'strawberry_jam': 121,\n",
       "         'pomegranate': 296,\n",
       "         'chocolate_pudding': 110,\n",
       "         'sunkist_lime': 105,\n",
       "         'sunkist_grapefruit': 100,\n",
       "         'blueberry': 144,\n",
       "         'green_apple': 100,\n",
       "         'raspberry': 110,\n",
       "         'very_cherry': 120,\n",
       "         'crushed_pineapple': 118,\n",
       "         'watermelon': 145,\n",
       "         'cappuchino': 133,\n",
       "         'orange_sherbet': 96,\n",
       "         'top_banana': 104,\n",
       "         'bubble_gum': 102,\n",
       "         'buttered_popcorn': 120,\n",
       "         'lemon_drop': 105})"
      ]
     },
     "execution_count": 20,
     "metadata": {},
     "output_type": "execute_result"
    }
   ],
   "source": [
    "Counter(catch_df_df[\"flavor\"])"
   ]
  },
  {
   "cell_type": "code",
   "execution_count": 29,
   "id": "b54f09f0",
   "metadata": {},
   "outputs": [],
   "source": [
    "# sampled_df = catch_df_df.groupby([\"flavor\"])[\"img_name\"].sample(frac = 0.20).reset_index()"
   ]
  },
  {
   "cell_type": "code",
   "execution_count": 30,
   "id": "c4fe9b73",
   "metadata": {},
   "outputs": [],
   "source": [
    "# sampled_df.head()"
   ]
  },
  {
   "cell_type": "code",
   "execution_count": 31,
   "id": "d04a9e6e",
   "metadata": {},
   "outputs": [],
   "source": [
    "# from skimage.transform import  resize"
   ]
  },
  {
   "cell_type": "code",
   "execution_count": 32,
   "id": "cc3ef0d0",
   "metadata": {},
   "outputs": [],
   "source": [
    "# import numpy as np"
   ]
  },
  {
   "cell_type": "code",
   "execution_count": 33,
   "id": "8775c534",
   "metadata": {},
   "outputs": [],
   "source": [
    "# median_shapes = np.median(catch_df_df.iloc[:,1:3],0)"
   ]
  },
  {
   "cell_type": "code",
   "execution_count": 34,
   "id": "18b48d89",
   "metadata": {},
   "outputs": [],
   "source": [
    "# catch = []\n",
    "# for name in tqdm(sampled_df[\"img_name\"]): \n",
    "#     img_arr = plt.imread(os.path.join(image_folder, name))/255.0\n",
    "#     img_arr = resize(img_arr, (int(median_shapes[0]), int(median_shapes[1])), anti_aliasing=True)\n",
    "#     img_arr = img_arr.reshape(img_arr.shape[0]*img_arr.shape[1], 3).astype(\"float16\")\n",
    "#     catch.append(img_arr)\n",
    "    "
   ]
  },
  {
   "cell_type": "code",
   "execution_count": 35,
   "id": "ec3a4cb0",
   "metadata": {},
   "outputs": [],
   "source": [
    "# catch = np.array(catch).astype(\"float16\")"
   ]
  },
  {
   "cell_type": "code",
   "execution_count": 36,
   "id": "c94a904b",
   "metadata": {},
   "outputs": [],
   "source": [
    "# catch = catch.reshape(catch.shape[0]*catch.shape[1],3)"
   ]
  },
  {
   "cell_type": "code",
   "execution_count": 1,
   "id": "04365bc2",
   "metadata": {},
   "outputs": [],
   "source": [
    "# catch"
   ]
  },
  {
   "cell_type": "code",
   "execution_count": null,
   "id": "d4b42f06",
   "metadata": {},
   "outputs": [],
   "source": [
    "# np.save(\"kmeans_data.npy\", catch)"
   ]
  },
  {
   "cell_type": "code",
   "execution_count": null,
   "id": "62883ae7",
   "metadata": {},
   "outputs": [],
   "source": [
    "# kmeans_data = np.load(\"kmeans_data.npy\")"
   ]
  },
  {
   "cell_type": "code",
   "execution_count": null,
   "id": "29b622a9",
   "metadata": {},
   "outputs": [],
   "source": [
    "# kmeans_data.shape"
   ]
  },
  {
   "cell_type": "code",
   "execution_count": null,
   "id": "c22813cb",
   "metadata": {},
   "outputs": [],
   "source": [
    "# from sklearn.cluster import MiniBatchKMeans"
   ]
  },
  {
   "cell_type": "code",
   "execution_count": null,
   "id": "8a73748e",
   "metadata": {},
   "outputs": [],
   "source": [
    "# batch_size = 100000000"
   ]
  },
  {
   "cell_type": "code",
   "execution_count": null,
   "id": "92661fa6",
   "metadata": {},
   "outputs": [],
   "source": [
    "# inertia = []\n",
    "# for k in tqdm(range(5,15)):\n",
    "#     kmeans = MiniBatchKMeans(n_clusters=k,\n",
    "#                              random_state=0,\n",
    "#                             batch_size=batch_size)\n",
    "#     for i in tqdm(range(0, len(kmeans_data), batch_size)):\n",
    "#         kmeans.partial_fit(kmeans_data[i:i+batch_size])\n",
    "#     inertia.append(kmeans.inertia_)"
   ]
  },
  {
   "cell_type": "code",
   "execution_count": null,
   "id": "043945ce",
   "metadata": {},
   "outputs": [],
   "source": [
    "# sse = {}\n",
    "# for k in tqdm(range(5, 11)):\n",
    "#     kmeans = KMeans(n_clusters=k, algorithm = \"full\").fit(kmeans_data.astype(\"float16\"))\n",
    "#     sse[k] = kmeans.inertia_"
   ]
  },
  {
   "cell_type": "code",
   "execution_count": null,
   "id": "c4f05573",
   "metadata": {},
   "outputs": [],
   "source": [
    "# import matplotlib.pyplot as plt"
   ]
  },
  {
   "cell_type": "code",
   "execution_count": null,
   "id": "70f9581b",
   "metadata": {},
   "outputs": [],
   "source": [
    "# plt.figure(figsize = (15,15))\n",
    "# plt.plot(list(range(5,15)), inertia)\n",
    "# plt.xlabel(\"Number of cluster\")\n",
    "# plt.ylabel(\"SSE\")\n",
    "# plt.show()"
   ]
  },
  {
   "cell_type": "code",
   "execution_count": null,
   "id": "96cba955",
   "metadata": {},
   "outputs": [],
   "source": [
    "# kmeans = MiniBatchKMeans(n_clusters=4,\n",
    "#                         random_state=0,\n",
    "#                         batch_size=batch_size, \n",
    "#                         max_iter = 10000, \n",
    "#                         n_init = 10)"
   ]
  },
  {
   "cell_type": "code",
   "execution_count": null,
   "id": "593999bd",
   "metadata": {},
   "outputs": [],
   "source": [
    "# for i in tqdm(range(0, len(kmeans_data), batch_size)):\n",
    "#     kmeans.partial_fit(kmeans_data[i:i+batch_size])"
   ]
  },
  {
   "cell_type": "code",
   "execution_count": null,
   "id": "83e12be7",
   "metadata": {},
   "outputs": [],
   "source": [
    "# kmeans.cluster_centers_"
   ]
  },
  {
   "cell_type": "code",
   "execution_count": 39,
   "id": "c09fe15d",
   "metadata": {},
   "outputs": [],
   "source": [
    "from sklearn.model_selection import train_test_split"
   ]
  },
  {
   "cell_type": "code",
   "execution_count": 118,
   "id": "17703969",
   "metadata": {},
   "outputs": [],
   "source": [
    "X_train, X_valid_test, y_train, y_valid_test = train_test_split(catch_df_df[\"img_name\"], catch_df_df[\"flavor\"], \n",
    "                                                               test_size= 0.40, stratify=catch_df_df[\"flavor\"])"
   ]
  },
  {
   "cell_type": "code",
   "execution_count": 119,
   "id": "994e4547",
   "metadata": {},
   "outputs": [],
   "source": [
    "X_valid, X_test, y_valid, y_test = train_test_split(X_valid_test, y_valid_test, \n",
    "                                                               test_size= 0.50, stratify = y_valid_test)"
   ]
  },
  {
   "cell_type": "code",
   "execution_count": 120,
   "id": "74bc27dd",
   "metadata": {},
   "outputs": [],
   "source": [
    "# write a function that can calculate the mean, sd, and mean/sd for a 3D matrix \n",
    "def function_basic_features(matrix, type_name):\n",
    "    # this list will hold all of the engineered features for the channels\n",
    "    dict_catch = []\n",
    "    # iterate over the channels\n",
    "    for index in range(3): \n",
    "        # extract the channel name\n",
    "        name = type_name[index]\n",
    "        # extract the matrix\n",
    "        matrix_name = matrix[:,:,index].ravel()\n",
    "        # get the mean\n",
    "        matrix_mean = matrix_name.mean()\n",
    "        # get the sd\n",
    "        matrix_sd = matrix_name.std()\n",
    "        # get the ratio\n",
    "        matrix_mean_by_sd = matrix_mean/matrix_sd\n",
    "        # add to a dictionary\n",
    "        dict1 = {\"mean_\" + name: matrix_mean, \"sd_\" + name: matrix_sd, \"matrix_mean_by_sd_\"+ name: matrix_mean_by_sd}\n",
    "        # add the dictionary to the list\n",
    "        dict_catch.append(dict1)\n",
    "    # return the list\n",
    "    return(dict_catch)"
   ]
  },
  {
   "cell_type": "code",
   "execution_count": 121,
   "id": "1d274b3a",
   "metadata": {},
   "outputs": [],
   "source": [
    "from skimage.color import rgb2gray, rgb2hsv, rgb2yuv"
   ]
  },
  {
   "cell_type": "code",
   "execution_count": 123,
   "id": "47c0d1c0",
   "metadata": {},
   "outputs": [
    {
     "data": {
      "application/vnd.jupyter.widget-view+json": {
       "model_id": "0a1e19f1d0254db1b09a7290016cb23f",
       "version_major": 2,
       "version_minor": 0
      },
      "text/plain": [
       "  0%|          | 0/3950 [00:00<?, ?it/s]"
      ]
     },
     "metadata": {},
     "output_type": "display_data"
    }
   ],
   "source": [
    "catch_train = []\n",
    "for img in tqdm(X_train.values): \n",
    "    matrix = plt.imread(os.path.join(image_folder, img))\n",
    "    results = function_basic_features(matrix, \"RGB\")\n",
    "    matrix_hsv = rgb2hsv(matrix)\n",
    "    results_hsv = function_basic_features(matrix_hsv, \"HSV\")\n",
    "    matrix_yuv = rgb2yuv(matrix)\n",
    "    results_yuv = function_basic_features(matrix_yuv, \"YUV\")\n",
    "    dict_catch = {\"img_name\": img}\n",
    "    dict_catch.update(results[0])\n",
    "    dict_catch.update(results[1])\n",
    "    dict_catch.update(results[2])\n",
    "    \n",
    "    dict_catch.update(results_hsv[0])\n",
    "    dict_catch.update(results_hsv[1])\n",
    "    dict_catch.update(results_hsv[2])\n",
    "    \n",
    "    dict_catch.update(results_yuv[0])\n",
    "    dict_catch.update(results_yuv[1])\n",
    "    dict_catch.update(results_yuv[2])\n",
    "    \n",
    "    catch_train.append(dict_catch)"
   ]
  },
  {
   "cell_type": "code",
   "execution_count": 124,
   "id": "e98e67de",
   "metadata": {},
   "outputs": [
    {
     "data": {
      "application/vnd.jupyter.widget-view+json": {
       "model_id": "5503ed0760d94239b7121347c6974835",
       "version_major": 2,
       "version_minor": 0
      },
      "text/plain": [
       "  0%|          | 0/1317 [00:00<?, ?it/s]"
      ]
     },
     "metadata": {},
     "output_type": "display_data"
    }
   ],
   "source": [
    "catch_valid = []\n",
    "for img in tqdm(X_valid.values): \n",
    "    matrix = plt.imread(os.path.join(image_folder, img))\n",
    "    results = function_basic_features(matrix, \"RGB\")\n",
    "    matrix_hsv = rgb2hsv(matrix)\n",
    "    results_hsv = function_basic_features(matrix_hsv, \"HSV\")\n",
    "    matrix_yuv = rgb2yuv(matrix)\n",
    "    results_yuv = function_basic_features(matrix_yuv, \"YUV\")\n",
    "    dict_catch = {\"img_name\": img}\n",
    "    dict_catch.update(results[0])\n",
    "    dict_catch.update(results[1])\n",
    "    dict_catch.update(results[2])\n",
    "    \n",
    "    dict_catch.update(results_hsv[0])\n",
    "    dict_catch.update(results_hsv[1])\n",
    "    dict_catch.update(results_hsv[2])\n",
    "    \n",
    "    dict_catch.update(results_yuv[0])\n",
    "    dict_catch.update(results_yuv[1])\n",
    "    dict_catch.update(results_yuv[2])\n",
    "    \n",
    "    catch_valid.append(dict_catch)"
   ]
  },
  {
   "cell_type": "code",
   "execution_count": 125,
   "id": "9c7429d5",
   "metadata": {},
   "outputs": [
    {
     "data": {
      "application/vnd.jupyter.widget-view+json": {
       "model_id": "a5129d58c1fa40e481aaefaabe693101",
       "version_major": 2,
       "version_minor": 0
      },
      "text/plain": [
       "  0%|          | 0/1317 [00:00<?, ?it/s]"
      ]
     },
     "metadata": {},
     "output_type": "display_data"
    }
   ],
   "source": [
    "catch_test = []\n",
    "for img in tqdm(X_test.values): \n",
    "    matrix = plt.imread(os.path.join(image_folder, img))\n",
    "    results = function_basic_features(matrix, \"RGB\")\n",
    "    matrix_hsv = rgb2hsv(matrix)\n",
    "    results_hsv = function_basic_features(matrix_hsv, \"HSV\")\n",
    "    matrix_yuv = rgb2yuv(matrix)\n",
    "    results_yuv = function_basic_features(matrix_yuv, \"YUV\")\n",
    "    dict_catch = {\"img_name\": img}\n",
    "    dict_catch.update(results[0])\n",
    "    dict_catch.update(results[1])\n",
    "    dict_catch.update(results[2])\n",
    "    \n",
    "    dict_catch.update(results_hsv[0])\n",
    "    dict_catch.update(results_hsv[1])\n",
    "    dict_catch.update(results_hsv[2])\n",
    "    \n",
    "    dict_catch.update(results_yuv[0])\n",
    "    dict_catch.update(results_yuv[1])\n",
    "    dict_catch.update(results_yuv[2])\n",
    "    \n",
    "    catch_test.append(dict_catch)"
   ]
  },
  {
   "cell_type": "code",
   "execution_count": 168,
   "id": "f5669dd5",
   "metadata": {},
   "outputs": [],
   "source": [
    "train_features = pd.DataFrame(catch_train)"
   ]
  },
  {
   "cell_type": "code",
   "execution_count": 169,
   "id": "ba236d50",
   "metadata": {},
   "outputs": [],
   "source": [
    "valid_features = pd.DataFrame(catch_valid)"
   ]
  },
  {
   "cell_type": "code",
   "execution_count": 170,
   "id": "6353cd20",
   "metadata": {},
   "outputs": [],
   "source": [
    "test_features = pd.DataFrame(catch_test)"
   ]
  },
  {
   "cell_type": "code",
   "execution_count": 171,
   "id": "09d73169",
   "metadata": {},
   "outputs": [],
   "source": [
    "train_valid_features = pd.concat([train_features, valid_features], ignore_index = True)"
   ]
  },
  {
   "cell_type": "code",
   "execution_count": 172,
   "id": "31c36eea",
   "metadata": {},
   "outputs": [],
   "source": [
    "train_valid_features_with_labels = pd.merge(train_valid_features, catch_df_df, how = \"inner\", on = \"img_name\")"
   ]
  },
  {
   "cell_type": "code",
   "execution_count": 173,
   "id": "46e79ca1",
   "metadata": {},
   "outputs": [
    {
     "data": {
      "text/html": [
       "<div>\n",
       "<style scoped>\n",
       "    .dataframe tbody tr th:only-of-type {\n",
       "        vertical-align: middle;\n",
       "    }\n",
       "\n",
       "    .dataframe tbody tr th {\n",
       "        vertical-align: top;\n",
       "    }\n",
       "\n",
       "    .dataframe thead th {\n",
       "        text-align: right;\n",
       "    }\n",
       "</style>\n",
       "<table border=\"1\" class=\"dataframe\">\n",
       "  <thead>\n",
       "    <tr style=\"text-align: right;\">\n",
       "      <th></th>\n",
       "      <th>img_name</th>\n",
       "      <th>mean_R</th>\n",
       "      <th>sd_R</th>\n",
       "      <th>matrix_mean_by_sd_R</th>\n",
       "      <th>mean_G</th>\n",
       "      <th>sd_G</th>\n",
       "      <th>matrix_mean_by_sd_G</th>\n",
       "      <th>mean_B</th>\n",
       "      <th>sd_B</th>\n",
       "      <th>matrix_mean_by_sd_B</th>\n",
       "      <th>...</th>\n",
       "      <th>matrix_mean_by_sd_V</th>\n",
       "      <th>mean_Y</th>\n",
       "      <th>sd_Y</th>\n",
       "      <th>matrix_mean_by_sd_Y</th>\n",
       "      <th>mean_U</th>\n",
       "      <th>sd_U</th>\n",
       "      <th>matrix_mean_by_sd_U</th>\n",
       "      <th>height</th>\n",
       "      <th>width</th>\n",
       "      <th>flavor</th>\n",
       "    </tr>\n",
       "  </thead>\n",
       "  <tbody>\n",
       "    <tr>\n",
       "      <th>0</th>\n",
       "      <td>island_punch_110.jpg</td>\n",
       "      <td>78.950940</td>\n",
       "      <td>42.162198</td>\n",
       "      <td>1.872553</td>\n",
       "      <td>76.113418</td>\n",
       "      <td>43.419516</td>\n",
       "      <td>1.752977</td>\n",
       "      <td>88.640602</td>\n",
       "      <td>39.371734</td>\n",
       "      <td>2.251377</td>\n",
       "      <td>...</td>\n",
       "      <td>0.637838</td>\n",
       "      <td>0.307412</td>\n",
       "      <td>0.166869</td>\n",
       "      <td>1.842233</td>\n",
       "      <td>0.019782</td>\n",
       "      <td>0.010315</td>\n",
       "      <td>1.917755</td>\n",
       "      <td>421</td>\n",
       "      <td>558</td>\n",
       "      <td>island_punch</td>\n",
       "    </tr>\n",
       "    <tr>\n",
       "      <th>1</th>\n",
       "      <td>chili_mango_122.jpg</td>\n",
       "      <td>176.218395</td>\n",
       "      <td>8.777172</td>\n",
       "      <td>20.076898</td>\n",
       "      <td>133.861499</td>\n",
       "      <td>20.955386</td>\n",
       "      <td>6.387928</td>\n",
       "      <td>76.459216</td>\n",
       "      <td>50.459557</td>\n",
       "      <td>1.515257</td>\n",
       "      <td>...</td>\n",
       "      <td>2.106664</td>\n",
       "      <td>0.548950</td>\n",
       "      <td>0.073521</td>\n",
       "      <td>7.466561</td>\n",
       "      <td>-0.122590</td>\n",
       "      <td>0.064456</td>\n",
       "      <td>-1.901928</td>\n",
       "      <td>509</td>\n",
       "      <td>479</td>\n",
       "      <td>chili_mango</td>\n",
       "    </tr>\n",
       "    <tr>\n",
       "      <th>2</th>\n",
       "      <td>toasted_marshmallow_130.jpg</td>\n",
       "      <td>114.274421</td>\n",
       "      <td>20.282966</td>\n",
       "      <td>5.634009</td>\n",
       "      <td>93.592865</td>\n",
       "      <td>24.644572</td>\n",
       "      <td>3.797707</td>\n",
       "      <td>70.726615</td>\n",
       "      <td>28.532803</td>\n",
       "      <td>2.478783</td>\n",
       "      <td>...</td>\n",
       "      <td>2.322205</td>\n",
       "      <td>0.381058</td>\n",
       "      <td>0.090769</td>\n",
       "      <td>4.198095</td>\n",
       "      <td>-0.051031</td>\n",
       "      <td>0.024518</td>\n",
       "      <td>-2.081378</td>\n",
       "      <td>316</td>\n",
       "      <td>449</td>\n",
       "      <td>toasted_marshmallow</td>\n",
       "    </tr>\n",
       "    <tr>\n",
       "      <th>3</th>\n",
       "      <td>raspberry_11.jpg</td>\n",
       "      <td>108.460817</td>\n",
       "      <td>30.979901</td>\n",
       "      <td>3.501006</td>\n",
       "      <td>57.898552</td>\n",
       "      <td>52.903829</td>\n",
       "      <td>1.094411</td>\n",
       "      <td>55.304695</td>\n",
       "      <td>54.950034</td>\n",
       "      <td>1.006454</td>\n",
       "      <td>...</td>\n",
       "      <td>2.005957</td>\n",
       "      <td>0.285180</td>\n",
       "      <td>0.181293</td>\n",
       "      <td>1.573032</td>\n",
       "      <td>-0.033611</td>\n",
       "      <td>0.019414</td>\n",
       "      <td>-1.731301</td>\n",
       "      <td>455</td>\n",
       "      <td>591</td>\n",
       "      <td>raspberry</td>\n",
       "    </tr>\n",
       "    <tr>\n",
       "      <th>4</th>\n",
       "      <td>dr_pepper_31.jpg</td>\n",
       "      <td>67.678644</td>\n",
       "      <td>46.906450</td>\n",
       "      <td>1.442843</td>\n",
       "      <td>53.877319</td>\n",
       "      <td>52.709053</td>\n",
       "      <td>1.022164</td>\n",
       "      <td>55.905822</td>\n",
       "      <td>52.498440</td>\n",
       "      <td>1.064904</td>\n",
       "      <td>...</td>\n",
       "      <td>1.231018</td>\n",
       "      <td>0.228373</td>\n",
       "      <td>0.199091</td>\n",
       "      <td>1.147077</td>\n",
       "      <td>-0.004495</td>\n",
       "      <td>0.008052</td>\n",
       "      <td>-0.558278</td>\n",
       "      <td>638</td>\n",
       "      <td>680</td>\n",
       "      <td>dr_pepper</td>\n",
       "    </tr>\n",
       "  </tbody>\n",
       "</table>\n",
       "<p>5 rows × 28 columns</p>\n",
       "</div>"
      ],
      "text/plain": [
       "                      img_name      mean_R       sd_R  matrix_mean_by_sd_R  \\\n",
       "0         island_punch_110.jpg   78.950940  42.162198             1.872553   \n",
       "1          chili_mango_122.jpg  176.218395   8.777172            20.076898   \n",
       "2  toasted_marshmallow_130.jpg  114.274421  20.282966             5.634009   \n",
       "3             raspberry_11.jpg  108.460817  30.979901             3.501006   \n",
       "4             dr_pepper_31.jpg   67.678644  46.906450             1.442843   \n",
       "\n",
       "       mean_G       sd_G  matrix_mean_by_sd_G     mean_B       sd_B  \\\n",
       "0   76.113418  43.419516             1.752977  88.640602  39.371734   \n",
       "1  133.861499  20.955386             6.387928  76.459216  50.459557   \n",
       "2   93.592865  24.644572             3.797707  70.726615  28.532803   \n",
       "3   57.898552  52.903829             1.094411  55.304695  54.950034   \n",
       "4   53.877319  52.709053             1.022164  55.905822  52.498440   \n",
       "\n",
       "   matrix_mean_by_sd_B  ...  matrix_mean_by_sd_V    mean_Y      sd_Y  \\\n",
       "0             2.251377  ...             0.637838  0.307412  0.166869   \n",
       "1             1.515257  ...             2.106664  0.548950  0.073521   \n",
       "2             2.478783  ...             2.322205  0.381058  0.090769   \n",
       "3             1.006454  ...             2.005957  0.285180  0.181293   \n",
       "4             1.064904  ...             1.231018  0.228373  0.199091   \n",
       "\n",
       "   matrix_mean_by_sd_Y    mean_U      sd_U  matrix_mean_by_sd_U  height  \\\n",
       "0             1.842233  0.019782  0.010315             1.917755     421   \n",
       "1             7.466561 -0.122590  0.064456            -1.901928     509   \n",
       "2             4.198095 -0.051031  0.024518            -2.081378     316   \n",
       "3             1.573032 -0.033611  0.019414            -1.731301     455   \n",
       "4             1.147077 -0.004495  0.008052            -0.558278     638   \n",
       "\n",
       "   width               flavor  \n",
       "0    558         island_punch  \n",
       "1    479          chili_mango  \n",
       "2    449  toasted_marshmallow  \n",
       "3    591            raspberry  \n",
       "4    680            dr_pepper  \n",
       "\n",
       "[5 rows x 28 columns]"
      ]
     },
     "execution_count": 173,
     "metadata": {},
     "output_type": "execute_result"
    }
   ],
   "source": [
    "train_valid_features_with_labels.head()"
   ]
  },
  {
   "cell_type": "code",
   "execution_count": 174,
   "id": "5db65488",
   "metadata": {},
   "outputs": [],
   "source": [
    "test_features = pd.merge(test_features, catch_df_df, how = \"inner\", on = \"img_name\")"
   ]
  },
  {
   "cell_type": "code",
   "execution_count": 203,
   "id": "0b6e98fd",
   "metadata": {},
   "outputs": [
    {
     "data": {
      "text/html": [
       "<div>\n",
       "<style scoped>\n",
       "    .dataframe tbody tr th:only-of-type {\n",
       "        vertical-align: middle;\n",
       "    }\n",
       "\n",
       "    .dataframe tbody tr th {\n",
       "        vertical-align: top;\n",
       "    }\n",
       "\n",
       "    .dataframe thead th {\n",
       "        text-align: right;\n",
       "    }\n",
       "</style>\n",
       "<table border=\"1\" class=\"dataframe\">\n",
       "  <thead>\n",
       "    <tr style=\"text-align: right;\">\n",
       "      <th></th>\n",
       "      <th>mean_R</th>\n",
       "      <th>sd_R</th>\n",
       "      <th>matrix_mean_by_sd_R</th>\n",
       "      <th>mean_G</th>\n",
       "      <th>sd_G</th>\n",
       "      <th>matrix_mean_by_sd_G</th>\n",
       "      <th>mean_B</th>\n",
       "      <th>sd_B</th>\n",
       "      <th>matrix_mean_by_sd_B</th>\n",
       "    </tr>\n",
       "  </thead>\n",
       "  <tbody>\n",
       "    <tr>\n",
       "      <th>0</th>\n",
       "      <td>78.950940</td>\n",
       "      <td>42.162198</td>\n",
       "      <td>1.872553</td>\n",
       "      <td>76.113418</td>\n",
       "      <td>43.419516</td>\n",
       "      <td>1.752977</td>\n",
       "      <td>88.640602</td>\n",
       "      <td>39.371734</td>\n",
       "      <td>2.251377</td>\n",
       "    </tr>\n",
       "    <tr>\n",
       "      <th>1</th>\n",
       "      <td>176.218395</td>\n",
       "      <td>8.777172</td>\n",
       "      <td>20.076898</td>\n",
       "      <td>133.861499</td>\n",
       "      <td>20.955386</td>\n",
       "      <td>6.387928</td>\n",
       "      <td>76.459216</td>\n",
       "      <td>50.459557</td>\n",
       "      <td>1.515257</td>\n",
       "    </tr>\n",
       "    <tr>\n",
       "      <th>2</th>\n",
       "      <td>114.274421</td>\n",
       "      <td>20.282966</td>\n",
       "      <td>5.634009</td>\n",
       "      <td>93.592865</td>\n",
       "      <td>24.644572</td>\n",
       "      <td>3.797707</td>\n",
       "      <td>70.726615</td>\n",
       "      <td>28.532803</td>\n",
       "      <td>2.478783</td>\n",
       "    </tr>\n",
       "    <tr>\n",
       "      <th>3</th>\n",
       "      <td>108.460817</td>\n",
       "      <td>30.979901</td>\n",
       "      <td>3.501006</td>\n",
       "      <td>57.898552</td>\n",
       "      <td>52.903829</td>\n",
       "      <td>1.094411</td>\n",
       "      <td>55.304695</td>\n",
       "      <td>54.950034</td>\n",
       "      <td>1.006454</td>\n",
       "    </tr>\n",
       "    <tr>\n",
       "      <th>4</th>\n",
       "      <td>67.678644</td>\n",
       "      <td>46.906450</td>\n",
       "      <td>1.442843</td>\n",
       "      <td>53.877319</td>\n",
       "      <td>52.709053</td>\n",
       "      <td>1.022164</td>\n",
       "      <td>55.905822</td>\n",
       "      <td>52.498440</td>\n",
       "      <td>1.064904</td>\n",
       "    </tr>\n",
       "    <tr>\n",
       "      <th>...</th>\n",
       "      <td>...</td>\n",
       "      <td>...</td>\n",
       "      <td>...</td>\n",
       "      <td>...</td>\n",
       "      <td>...</td>\n",
       "      <td>...</td>\n",
       "      <td>...</td>\n",
       "      <td>...</td>\n",
       "      <td>...</td>\n",
       "    </tr>\n",
       "    <tr>\n",
       "      <th>5262</th>\n",
       "      <td>123.930811</td>\n",
       "      <td>18.619671</td>\n",
       "      <td>6.655908</td>\n",
       "      <td>106.293931</td>\n",
       "      <td>21.209755</td>\n",
       "      <td>5.011559</td>\n",
       "      <td>86.130912</td>\n",
       "      <td>26.996610</td>\n",
       "      <td>3.190434</td>\n",
       "    </tr>\n",
       "    <tr>\n",
       "      <th>5263</th>\n",
       "      <td>115.814917</td>\n",
       "      <td>12.379998</td>\n",
       "      <td>9.355003</td>\n",
       "      <td>123.364831</td>\n",
       "      <td>12.080756</td>\n",
       "      <td>10.211681</td>\n",
       "      <td>29.274266</td>\n",
       "      <td>44.376647</td>\n",
       "      <td>0.659677</td>\n",
       "    </tr>\n",
       "    <tr>\n",
       "      <th>5264</th>\n",
       "      <td>170.115513</td>\n",
       "      <td>14.765769</td>\n",
       "      <td>11.520938</td>\n",
       "      <td>129.289994</td>\n",
       "      <td>23.802351</td>\n",
       "      <td>5.431816</td>\n",
       "      <td>71.647933</td>\n",
       "      <td>54.760304</td>\n",
       "      <td>1.308392</td>\n",
       "    </tr>\n",
       "    <tr>\n",
       "      <th>5265</th>\n",
       "      <td>84.709240</td>\n",
       "      <td>21.736649</td>\n",
       "      <td>3.897070</td>\n",
       "      <td>41.066185</td>\n",
       "      <td>38.790288</td>\n",
       "      <td>1.058672</td>\n",
       "      <td>41.363117</td>\n",
       "      <td>40.554595</td>\n",
       "      <td>1.019937</td>\n",
       "    </tr>\n",
       "    <tr>\n",
       "      <th>5266</th>\n",
       "      <td>80.784338</td>\n",
       "      <td>45.424779</td>\n",
       "      <td>1.778420</td>\n",
       "      <td>69.892077</td>\n",
       "      <td>49.755873</td>\n",
       "      <td>1.404700</td>\n",
       "      <td>79.497558</td>\n",
       "      <td>47.199144</td>\n",
       "      <td>1.684301</td>\n",
       "    </tr>\n",
       "  </tbody>\n",
       "</table>\n",
       "<p>5267 rows × 9 columns</p>\n",
       "</div>"
      ],
      "text/plain": [
       "          mean_R       sd_R  matrix_mean_by_sd_R      mean_G       sd_G  \\\n",
       "0      78.950940  42.162198             1.872553   76.113418  43.419516   \n",
       "1     176.218395   8.777172            20.076898  133.861499  20.955386   \n",
       "2     114.274421  20.282966             5.634009   93.592865  24.644572   \n",
       "3     108.460817  30.979901             3.501006   57.898552  52.903829   \n",
       "4      67.678644  46.906450             1.442843   53.877319  52.709053   \n",
       "...          ...        ...                  ...         ...        ...   \n",
       "5262  123.930811  18.619671             6.655908  106.293931  21.209755   \n",
       "5263  115.814917  12.379998             9.355003  123.364831  12.080756   \n",
       "5264  170.115513  14.765769            11.520938  129.289994  23.802351   \n",
       "5265   84.709240  21.736649             3.897070   41.066185  38.790288   \n",
       "5266   80.784338  45.424779             1.778420   69.892077  49.755873   \n",
       "\n",
       "      matrix_mean_by_sd_G     mean_B       sd_B  matrix_mean_by_sd_B  \n",
       "0                1.752977  88.640602  39.371734             2.251377  \n",
       "1                6.387928  76.459216  50.459557             1.515257  \n",
       "2                3.797707  70.726615  28.532803             2.478783  \n",
       "3                1.094411  55.304695  54.950034             1.006454  \n",
       "4                1.022164  55.905822  52.498440             1.064904  \n",
       "...                   ...        ...        ...                  ...  \n",
       "5262             5.011559  86.130912  26.996610             3.190434  \n",
       "5263            10.211681  29.274266  44.376647             0.659677  \n",
       "5264             5.431816  71.647933  54.760304             1.308392  \n",
       "5265             1.058672  41.363117  40.554595             1.019937  \n",
       "5266             1.404700  79.497558  47.199144             1.684301  \n",
       "\n",
       "[5267 rows x 9 columns]"
      ]
     },
     "execution_count": 203,
     "metadata": {},
     "output_type": "execute_result"
    }
   ],
   "source": [
    "X_train"
   ]
  },
  {
   "cell_type": "code",
   "execution_count": 199,
   "id": "5fd3b2df",
   "metadata": {},
   "outputs": [
    {
     "data": {
      "text/plain": [
       "set()"
      ]
     },
     "execution_count": 199,
     "metadata": {},
     "output_type": "execute_result"
    }
   ],
   "source": [
    "set(test_features[\"img_name\"]).intersection(train_valid_features_with_labels[\"img_name\"])"
   ]
  },
  {
   "cell_type": "code",
   "execution_count": 186,
   "id": "b848bb83",
   "metadata": {},
   "outputs": [],
   "source": [
    "X_train, y_train = train_valid_features_with_labels.iloc[:, 1:10], train_valid_features_with_labels.iloc[:,-1]"
   ]
  },
  {
   "cell_type": "code",
   "execution_count": 187,
   "id": "1ca3d175",
   "metadata": {},
   "outputs": [],
   "source": [
    "from sklearn.model_selection import GridSearchCV"
   ]
  },
  {
   "cell_type": "code",
   "execution_count": 188,
   "id": "9c448960",
   "metadata": {},
   "outputs": [],
   "source": [
    "parameters = {'n_estimators':[100]}"
   ]
  },
  {
   "cell_type": "code",
   "execution_count": 189,
   "id": "4ae9b338",
   "metadata": {},
   "outputs": [],
   "source": [
    "from sklearn.ensemble import RandomForestClassifier"
   ]
  },
  {
   "cell_type": "code",
   "execution_count": 190,
   "id": "840e4f1e",
   "metadata": {},
   "outputs": [],
   "source": [
    "rf = RandomForestClassifier(n_jobs = 6)"
   ]
  },
  {
   "cell_type": "code",
   "execution_count": 191,
   "id": "a02da9ce",
   "metadata": {},
   "outputs": [],
   "source": [
    "clf = GridSearchCV(rf, parameters, cv = 5, scoring = \"accuracy\")"
   ]
  },
  {
   "cell_type": "code",
   "execution_count": 192,
   "id": "936f0bcb",
   "metadata": {},
   "outputs": [
    {
     "data": {
      "text/plain": [
       "GridSearchCV(cv=5, estimator=RandomForestClassifier(n_jobs=6),\n",
       "             param_grid={'n_estimators': [100]}, scoring='accuracy')"
      ]
     },
     "execution_count": 192,
     "metadata": {},
     "output_type": "execute_result"
    }
   ],
   "source": [
    "clf.fit(X_train, y_train)"
   ]
  },
  {
   "cell_type": "code",
   "execution_count": 193,
   "id": "1818f346",
   "metadata": {},
   "outputs": [
    {
     "data": {
      "text/plain": [
       "0.9829119295912465"
      ]
     },
     "execution_count": 193,
     "metadata": {},
     "output_type": "execute_result"
    }
   ],
   "source": [
    "clf.best_score_"
   ]
  },
  {
   "cell_type": "code",
   "execution_count": 194,
   "id": "3e1e9114",
   "metadata": {},
   "outputs": [],
   "source": [
    "X_test, y_test = test_features.iloc[:, 1:10], test_features.iloc[:,-1]"
   ]
  },
  {
   "cell_type": "code",
   "execution_count": 195,
   "id": "03dc671c",
   "metadata": {},
   "outputs": [],
   "source": [
    "from sklearn.metrics import accuracy_score"
   ]
  },
  {
   "cell_type": "code",
   "execution_count": 196,
   "id": "0eac72b3",
   "metadata": {},
   "outputs": [
    {
     "data": {
      "text/plain": [
       "0.9855732725892179"
      ]
     },
     "execution_count": 196,
     "metadata": {},
     "output_type": "execute_result"
    }
   ],
   "source": [
    "accuracy_score(y_test, clf.predict(X_test))"
   ]
  },
  {
   "cell_type": "code",
   "execution_count": 202,
   "id": "72162721",
   "metadata": {},
   "outputs": [],
   "source": [
    "est = clf.best_estimator_"
   ]
  },
  {
   "cell_type": "code",
   "execution_count": 204,
   "id": "b34d0d25",
   "metadata": {},
   "outputs": [
    {
     "data": {
      "text/plain": [
       "RandomForestClassifier(n_jobs=6)"
      ]
     },
     "execution_count": 204,
     "metadata": {},
     "output_type": "execute_result"
    }
   ],
   "source": [
    "est.fit(X_train, y_train)"
   ]
  },
  {
   "cell_type": "code",
   "execution_count": 207,
   "id": "8ef6b9b8",
   "metadata": {},
   "outputs": [
    {
     "data": {
      "text/html": [
       "<div>\n",
       "<style scoped>\n",
       "    .dataframe tbody tr th:only-of-type {\n",
       "        vertical-align: middle;\n",
       "    }\n",
       "\n",
       "    .dataframe tbody tr th {\n",
       "        vertical-align: top;\n",
       "    }\n",
       "\n",
       "    .dataframe thead th {\n",
       "        text-align: right;\n",
       "    }\n",
       "</style>\n",
       "<table border=\"1\" class=\"dataframe\">\n",
       "  <thead>\n",
       "    <tr style=\"text-align: right;\">\n",
       "      <th></th>\n",
       "      <th>0</th>\n",
       "      <th>1</th>\n",
       "    </tr>\n",
       "  </thead>\n",
       "  <tbody>\n",
       "    <tr>\n",
       "      <th>0</th>\n",
       "      <td>mean_R</td>\n",
       "      <td>0.178349</td>\n",
       "    </tr>\n",
       "    <tr>\n",
       "      <th>8</th>\n",
       "      <td>matrix_mean_by_sd_B</td>\n",
       "      <td>0.132585</td>\n",
       "    </tr>\n",
       "    <tr>\n",
       "      <th>3</th>\n",
       "      <td>mean_G</td>\n",
       "      <td>0.125444</td>\n",
       "    </tr>\n",
       "    <tr>\n",
       "      <th>2</th>\n",
       "      <td>matrix_mean_by_sd_R</td>\n",
       "      <td>0.121038</td>\n",
       "    </tr>\n",
       "    <tr>\n",
       "      <th>5</th>\n",
       "      <td>matrix_mean_by_sd_G</td>\n",
       "      <td>0.109282</td>\n",
       "    </tr>\n",
       "    <tr>\n",
       "      <th>6</th>\n",
       "      <td>mean_B</td>\n",
       "      <td>0.107564</td>\n",
       "    </tr>\n",
       "    <tr>\n",
       "      <th>1</th>\n",
       "      <td>sd_R</td>\n",
       "      <td>0.088327</td>\n",
       "    </tr>\n",
       "    <tr>\n",
       "      <th>7</th>\n",
       "      <td>sd_B</td>\n",
       "      <td>0.068865</td>\n",
       "    </tr>\n",
       "    <tr>\n",
       "      <th>4</th>\n",
       "      <td>sd_G</td>\n",
       "      <td>0.068547</td>\n",
       "    </tr>\n",
       "  </tbody>\n",
       "</table>\n",
       "</div>"
      ],
      "text/plain": [
       "                     0         1\n",
       "0               mean_R  0.178349\n",
       "8  matrix_mean_by_sd_B  0.132585\n",
       "3               mean_G  0.125444\n",
       "2  matrix_mean_by_sd_R  0.121038\n",
       "5  matrix_mean_by_sd_G  0.109282\n",
       "6               mean_B  0.107564\n",
       "1                 sd_R  0.088327\n",
       "7                 sd_B  0.068865\n",
       "4                 sd_G  0.068547"
      ]
     },
     "execution_count": 207,
     "metadata": {},
     "output_type": "execute_result"
    }
   ],
   "source": [
    "pd.DataFrame(list(zip(X_train.columns, est.feature_importances_))).sort_values(1, ascending = False)"
   ]
  }
 ],
 "metadata": {
  "kernelspec": {
   "display_name": "Python 3 (ipykernel)",
   "language": "python",
   "name": "python3"
  },
  "language_info": {
   "codemirror_mode": {
    "name": "ipython",
    "version": 3
   },
   "file_extension": ".py",
   "mimetype": "text/x-python",
   "name": "python",
   "nbconvert_exporter": "python",
   "pygments_lexer": "ipython3",
   "version": "3.9.7"
  }
 },
 "nbformat": 4,
 "nbformat_minor": 5
}
