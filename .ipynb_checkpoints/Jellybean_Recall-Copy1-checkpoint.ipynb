{
 "cells": [
  {
   "cell_type": "code",
   "execution_count": null,
   "id": "209151f3",
   "metadata": {},
   "outputs": [],
   "source": [
    "# load the libraries here\n",
    "import os"
   ]
  },
  {
   "cell_type": "code",
   "execution_count": null,
   "id": "3e5b7c37",
   "metadata": {},
   "outputs": [],
   "source": [
    "# path to images\n",
    "path_to_data =  r\"D:\\Jellybean\\Relevant\\jellybean_data-master\""
   ]
  },
  {
   "cell_type": "code",
   "execution_count": null,
   "id": "7a7bf931",
   "metadata": {},
   "outputs": [],
   "source": [
    "# get the folder names\n",
    "folders = os.listdir(path_to_data)"
   ]
  },
  {
   "cell_type": "code",
   "execution_count": null,
   "id": "2a2ac906",
   "metadata": {},
   "outputs": [],
   "source": [
    "# see what's in folders\n",
    "folders[:5]"
   ]
  },
  {
   "cell_type": "code",
   "execution_count": null,
   "id": "81db098a",
   "metadata": {},
   "outputs": [],
   "source": [
    "# skimage - RGB, CV2 - BGR\n",
    "import skimage \n",
    "# otsu import\n",
    "from skimage.filters import threshold_otsu\n",
    "# 3-D to 2-D\n",
    "from skimage.color import rgb2gray, rgb2hsv, rgb2yuv\n",
    "# for filling the small holes\n",
    "from scipy import ndimage\n",
    "# clear the border\n",
    "from skimage.segmentation import clear_border\n",
    "# erosion\n",
    "from skimage.morphology import binary_erosion\n",
    "# mainly will use for watershed\n",
    "import cv2\n",
    "import numpy as np"
   ]
  },
  {
   "cell_type": "code",
   "execution_count": null,
   "id": "499d539d",
   "metadata": {},
   "outputs": [],
   "source": [
    "# matplotlib for plotting\n",
    "import matplotlib.pyplot as plt"
   ]
  },
  {
   "cell_type": "code",
   "execution_count": null,
   "id": "353cf17a",
   "metadata": {},
   "outputs": [],
   "source": [
    "# status bar\n",
    "from tqdm.notebook import tqdm"
   ]
  },
  {
   "cell_type": "code",
   "execution_count": null,
   "id": "b0e71fd1",
   "metadata": {},
   "outputs": [],
   "source": [
    "# Now Let's work with developing the watershed idea with one image\n",
    "# and hopefully generalize that to the others"
   ]
  },
  {
   "cell_type": "code",
   "execution_count": null,
   "id": "54d93ae9",
   "metadata": {},
   "outputs": [],
   "source": [
    "save_path = r\"D:\\Jellybean\\Second_Attempt\\Split_Images\\\\\""
   ]
  },
  {
   "cell_type": "code",
   "execution_count": null,
   "id": "fac358f6",
   "metadata": {},
   "outputs": [],
   "source": [
    "def get_the_images(folder): \n",
    "    # get the images\n",
    "    images = os.listdir(os.path.join(path_to_data, folder))\n",
    "    counter = 1\n",
    "    # read each image\n",
    "    for image in tqdm(images): \n",
    "        img = plt.imread(os.path.join(os.path.join(path_to_data, folder), image))\n",
    "        # make the image grayscale\n",
    "        gray_image = rgb2gray(img) \n",
    "        # get the otsu thresholding\n",
    "        img_threshold = threshold_otsu(gray_image)\n",
    "        # threshold the image\n",
    "        binary = gray_image > img_threshold\n",
    "        # invert? \n",
    "        binary_invert = 1 - binary\n",
    "        # fill small holes\n",
    "        binary_invert_filled = ndimage.binary_fill_holes(binary_invert).astype(int)\n",
    "        # clear the border\n",
    "        clear_border_img = clear_border(binary_invert_filled)\n",
    "        # distance transform\n",
    "        distance = ndimage.distance_transform_edt(clear_border_img)\n",
    "        # need to find a thresholding for this image too\n",
    "        # resort to otsu\n",
    "        img_threshold_distance = threshold_otsu(distance)\n",
    "        # threshold the image\n",
    "        sure_fg = distance > img_threshold_distance\n",
    "        # do the erosion twice to get the sure foreground areas\n",
    "        # erosion once\n",
    "        sure_sure_fg = binary_erosion(sure_fg, cv2.getStructuringElement(cv2.MORPH_ELLIPSE,(50,50))).astype(int)\n",
    "        # erosion twice\n",
    "        sure_sure_fg = binary_erosion(sure_sure_fg, cv2.getStructuringElement(cv2.MORPH_ELLIPSE,(50,50))).astype(int)\n",
    "        # what is the sure background\n",
    "        sure_bg = clear_border_img\n",
    "\n",
    "        # unknown part is sure_bg - sure_fg\n",
    "        unknown = cv2.subtract(sure_bg,sure_sure_fg)\n",
    "\n",
    "        # make it uint8 - cv2 quirk\n",
    "        unknown = cv2.convertScaleAbs(unknown*255)\n",
    "\n",
    "        # see the unknown images\n",
    "        plt.imshow(unknown, \"gray\")\n",
    "\n",
    "        # convert to unint8 again\n",
    "        sure_sure_fg = cv2.convertScaleAbs(sure_sure_fg*255)\n",
    "\n",
    "        # Marker labelling\n",
    "        ret, markers = cv2.connectedComponents(sure_sure_fg)\n",
    "\n",
    "        # Add one to all labels so that sure background is not 0, but 1\n",
    "        markers = markers+1\n",
    "\n",
    "        # Now, mark the region of unknown with zero\n",
    "        markers[unknown==255] = 0\n",
    "\n",
    "        # convert to uint8\n",
    "        gray_image = cv2.convertScaleAbs(gray_image*255)\n",
    "\n",
    "\n",
    "        # make it 3-D\n",
    "        gray_image = np.dstack([gray_image]*3)\n",
    "\n",
    "        # finally watershed\n",
    "        markers = cv2.watershed(gray_image,markers)\n",
    "\n",
    "        # marker 1 has all the masks\n",
    "        binary_markers = markers == 1\n",
    "\n",
    "        # invert\n",
    "        binary_markers = 1 - binary_markers.astype(int)\n",
    "\n",
    "        # convert to uint8\n",
    "        binary_markers = cv2.convertScaleAbs(binary_markers*255)\n",
    "\n",
    "        plt.imshow(binary_markers, \"gray\")\n",
    "\n",
    "        # find the contours\n",
    "        contours, hierarchy = cv2.findContours(binary_markers, cv2.RETR_TREE, cv2.CHAIN_APPROX_SIMPLE)\n",
    "        # contours = contours[0] if len(contours) == 2 else contours[1]\n",
    "\n",
    "        # blank image\n",
    "        blank_image = np.zeros((markers.shape[0], markers.shape[1]))\n",
    "\n",
    "        # a dark image\n",
    "        mask = np.zeros(markers.shape, dtype=\"uint8\")\n",
    "        # iterate over the found markers\n",
    "        for marker in np.unique(markers):\n",
    "            # markers >=2 are the individual jellybeans\n",
    "            if marker >= 2:\n",
    "                # find the mask for the marker\n",
    "                temp_img = markers == marker\n",
    "                # convert to uint8\n",
    "                temp_img = cv2.convertScaleAbs(temp_img*255)\n",
    "                # detect contour in the mask\n",
    "                contours, hierarchy = cv2.findContours(temp_img, cv2.RETR_TREE, cv2.CHAIN_APPROX_SIMPLE)\n",
    "                # fit an ellipse to the contour\n",
    "                e = cv2.fitEllipse(contours[0])\n",
    "                # get the mask define by the ellipse\n",
    "                mask=cv2.ellipse(mask, e, color=(255,255,255), thickness=-1)\n",
    "\n",
    "\n",
    "        # pass the mask through find contours\n",
    "        contours, hierarchy = cv2.findContours(mask, cv2.RETR_TREE, cv2.CHAIN_APPROX_SIMPLE)\n",
    "\n",
    "        # iterate over the contours and get the RGB jellybean\n",
    "        for cnt in contours: \n",
    "            # define a blank image\n",
    "            blank_image = np.zeros(markers.shape, dtype=\"uint8\")\n",
    "            # draw the filled contour on the blank image\n",
    "            jellybean_mask = cv2.drawContours(blank_image, [cnt], -1, (255,255,255), -1)\n",
    "    \n",
    "            # draw a rectangle\n",
    "            x,y,w,h = cv2.boundingRect(cnt)\n",
    "    \n",
    "            # get the rectangle image\n",
    "            rect_img = img[y:y+h,x:x+w]\n",
    "            \n",
    "            # saving path\n",
    "            path = save_path + folder + \"_\" + str(counter) + \".jpg\"\n",
    "            \n",
    "            # increment\n",
    "            counter = counter + 1\n",
    "            \n",
    "            # save the image\n",
    "            plt.imsave(path, rect_img)"
   ]
  },
  {
   "cell_type": "code",
   "execution_count": null,
   "id": "6785d6b9",
   "metadata": {},
   "outputs": [],
   "source": [
    "from joblib import Parallel, delayed"
   ]
  },
  {
   "cell_type": "code",
   "execution_count": null,
   "id": "61f0be2b",
   "metadata": {},
   "outputs": [],
   "source": [
    "Parallel(n_jobs=6, verbose = 3)(delayed(get_the_images)(i ) for i in folders)"
   ]
  },
  {
   "cell_type": "code",
   "execution_count": null,
   "id": "0acafba9",
   "metadata": {
    "scrolled": false
   },
   "outputs": [],
   "source": [
    "for folder in tqdm(folders):\n",
    "    get_the_images(folder)"
   ]
  }
 ],
 "metadata": {
  "kernelspec": {
   "display_name": "newone",
   "language": "python",
   "name": "newone"
  },
  "language_info": {
   "codemirror_mode": {
    "name": "ipython",
    "version": 3
   },
   "file_extension": ".py",
   "mimetype": "text/x-python",
   "name": "python",
   "nbconvert_exporter": "python",
   "pygments_lexer": "ipython3",
   "version": "3.9.7"
  }
 },
 "nbformat": 4,
 "nbformat_minor": 5
}
