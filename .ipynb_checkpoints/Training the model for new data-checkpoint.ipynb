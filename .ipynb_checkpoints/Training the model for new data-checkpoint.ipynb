{
 "cells": [
  {
   "cell_type": "code",
   "execution_count": 1,
   "id": "frank-apache",
   "metadata": {},
   "outputs": [],
   "source": [
    "import numpy as np\n",
    "import matplotlib.pyplot as plt\n",
    "import pandas as pd\n",
    "import tensorflow as tf\n",
    "from tensorflow import keras\n",
    "from sklearn.model_selection import train_test_split\n",
    "from keras.preprocessing.image import ImageDataGenerator\n",
    "from keras.layers import Dense, Conv2D, Flatten, Dropout, Activation,MaxPooling2D, GlobalMaxPool2D, BatchNormalization\n",
    "from keras.models import Sequential\n",
    "from keras.callbacks import EarlyStopping\n",
    "from keras.models import Model"
   ]
  },
  {
   "cell_type": "code",
   "execution_count": 2,
   "id": "sunset-running",
   "metadata": {},
   "outputs": [],
   "source": [
    "# now, as the data is in a dataframe, can import it using flow from dataframe\n",
    "# can slpit the data as train and validation randomly s.t. 90% in training and the rest in validation\n",
    "\n",
    "Train_val_data = pd.read_csv(r\"C:\\Users\\15739\\Desktop\\UNL - all\\Fall 2021\\Tasselnet\\New_Data\\Eric\\train_data.csv\")"
   ]
  },
  {
   "cell_type": "code",
   "execution_count": 3,
   "id": "composite-jacket",
   "metadata": {},
   "outputs": [
    {
     "data": {
      "text/plain": [
       "(150453, 2)"
      ]
     },
     "execution_count": 3,
     "metadata": {},
     "output_type": "execute_result"
    }
   ],
   "source": [
    "# see the shape of the dataset\n",
    "Train_val_data.shape"
   ]
  },
  {
   "cell_type": "code",
   "execution_count": 4,
   "id": "convertible-traveler",
   "metadata": {},
   "outputs": [
    {
     "data": {
      "text/html": [
       "<div>\n",
       "<style scoped>\n",
       "    .dataframe tbody tr th:only-of-type {\n",
       "        vertical-align: middle;\n",
       "    }\n",
       "\n",
       "    .dataframe tbody tr th {\n",
       "        vertical-align: top;\n",
       "    }\n",
       "\n",
       "    .dataframe thead th {\n",
       "        text-align: right;\n",
       "    }\n",
       "</style>\n",
       "<table border=\"1\" class=\"dataframe\">\n",
       "  <thead>\n",
       "    <tr style=\"text-align: right;\">\n",
       "      <th></th>\n",
       "      <th>Image_path</th>\n",
       "      <th>count</th>\n",
       "    </tr>\n",
       "  </thead>\n",
       "  <tbody>\n",
       "    <tr>\n",
       "      <th>0</th>\n",
       "      <td>C:\\Users\\15739\\Desktop\\UNL - all\\Fall 2021\\Tas...</td>\n",
       "      <td>0.180312</td>\n",
       "    </tr>\n",
       "    <tr>\n",
       "      <th>1</th>\n",
       "      <td>C:\\Users\\15739\\Desktop\\UNL - all\\Fall 2021\\Tas...</td>\n",
       "      <td>0.398925</td>\n",
       "    </tr>\n",
       "    <tr>\n",
       "      <th>2</th>\n",
       "      <td>C:\\Users\\15739\\Desktop\\UNL - all\\Fall 2021\\Tas...</td>\n",
       "      <td>0.531664</td>\n",
       "    </tr>\n",
       "    <tr>\n",
       "      <th>3</th>\n",
       "      <td>C:\\Users\\15739\\Desktop\\UNL - all\\Fall 2021\\Tas...</td>\n",
       "      <td>0.529161</td>\n",
       "    </tr>\n",
       "    <tr>\n",
       "      <th>4</th>\n",
       "      <td>C:\\Users\\15739\\Desktop\\UNL - all\\Fall 2021\\Tas...</td>\n",
       "      <td>0.391465</td>\n",
       "    </tr>\n",
       "  </tbody>\n",
       "</table>\n",
       "</div>"
      ],
      "text/plain": [
       "                                          Image_path     count\n",
       "0  C:\\Users\\15739\\Desktop\\UNL - all\\Fall 2021\\Tas...  0.180312\n",
       "1  C:\\Users\\15739\\Desktop\\UNL - all\\Fall 2021\\Tas...  0.398925\n",
       "2  C:\\Users\\15739\\Desktop\\UNL - all\\Fall 2021\\Tas...  0.531664\n",
       "3  C:\\Users\\15739\\Desktop\\UNL - all\\Fall 2021\\Tas...  0.529161\n",
       "4  C:\\Users\\15739\\Desktop\\UNL - all\\Fall 2021\\Tas...  0.391465"
      ]
     },
     "execution_count": 4,
     "metadata": {},
     "output_type": "execute_result"
    }
   ],
   "source": [
    "# see the first few rows\n",
    "Train_val_data.head()"
   ]
  },
  {
   "cell_type": "code",
   "execution_count": 5,
   "id": "rocky-taxation",
   "metadata": {},
   "outputs": [],
   "source": [
    "Train_df, Valid_df = train_test_split(Train_val_data, test_size = 0.2, random_state = 84)"
   ]
  },
  {
   "cell_type": "code",
   "execution_count": 6,
   "id": "heated-hardwood",
   "metadata": {},
   "outputs": [
    {
     "data": {
      "text/plain": [
       "(120362, 2)"
      ]
     },
     "execution_count": 6,
     "metadata": {},
     "output_type": "execute_result"
    }
   ],
   "source": [
    "# Shape of train data\n",
    "Train_df.shape"
   ]
  },
  {
   "cell_type": "code",
   "execution_count": 7,
   "id": "tutorial-intervention",
   "metadata": {},
   "outputs": [
    {
     "data": {
      "text/html": [
       "<div>\n",
       "<style scoped>\n",
       "    .dataframe tbody tr th:only-of-type {\n",
       "        vertical-align: middle;\n",
       "    }\n",
       "\n",
       "    .dataframe tbody tr th {\n",
       "        vertical-align: top;\n",
       "    }\n",
       "\n",
       "    .dataframe thead th {\n",
       "        text-align: right;\n",
       "    }\n",
       "</style>\n",
       "<table border=\"1\" class=\"dataframe\">\n",
       "  <thead>\n",
       "    <tr style=\"text-align: right;\">\n",
       "      <th></th>\n",
       "      <th>Image_path</th>\n",
       "      <th>count</th>\n",
       "    </tr>\n",
       "  </thead>\n",
       "  <tbody>\n",
       "    <tr>\n",
       "      <th>0</th>\n",
       "      <td>C:\\Users\\15739\\Desktop\\UNL - all\\Fall 2021\\Tas...</td>\n",
       "      <td>0.848073</td>\n",
       "    </tr>\n",
       "    <tr>\n",
       "      <th>1</th>\n",
       "      <td>C:\\Users\\15739\\Desktop\\UNL - all\\Fall 2021\\Tas...</td>\n",
       "      <td>0.000000</td>\n",
       "    </tr>\n",
       "    <tr>\n",
       "      <th>2</th>\n",
       "      <td>C:\\Users\\15739\\Desktop\\UNL - all\\Fall 2021\\Tas...</td>\n",
       "      <td>0.000000</td>\n",
       "    </tr>\n",
       "    <tr>\n",
       "      <th>3</th>\n",
       "      <td>C:\\Users\\15739\\Desktop\\UNL - all\\Fall 2021\\Tas...</td>\n",
       "      <td>0.000000</td>\n",
       "    </tr>\n",
       "    <tr>\n",
       "      <th>4</th>\n",
       "      <td>C:\\Users\\15739\\Desktop\\UNL - all\\Fall 2021\\Tas...</td>\n",
       "      <td>0.862655</td>\n",
       "    </tr>\n",
       "  </tbody>\n",
       "</table>\n",
       "</div>"
      ],
      "text/plain": [
       "                                          Image_path     count\n",
       "0  C:\\Users\\15739\\Desktop\\UNL - all\\Fall 2021\\Tas...  0.848073\n",
       "1  C:\\Users\\15739\\Desktop\\UNL - all\\Fall 2021\\Tas...  0.000000\n",
       "2  C:\\Users\\15739\\Desktop\\UNL - all\\Fall 2021\\Tas...  0.000000\n",
       "3  C:\\Users\\15739\\Desktop\\UNL - all\\Fall 2021\\Tas...  0.000000\n",
       "4  C:\\Users\\15739\\Desktop\\UNL - all\\Fall 2021\\Tas...  0.862655"
      ]
     },
     "execution_count": 7,
     "metadata": {},
     "output_type": "execute_result"
    }
   ],
   "source": [
    "# head of train data\n",
    "Train_df.reset_index(drop = True).head()"
   ]
  },
  {
   "cell_type": "code",
   "execution_count": 8,
   "id": "confident-quantum",
   "metadata": {
    "scrolled": true
   },
   "outputs": [
    {
     "data": {
      "text/plain": [
       "(30091, 2)"
      ]
     },
     "execution_count": 8,
     "metadata": {},
     "output_type": "execute_result"
    }
   ],
   "source": [
    "# shape of validation data\n",
    "Valid_df.shape"
   ]
  },
  {
   "cell_type": "code",
   "execution_count": 9,
   "id": "spectacular-baptist",
   "metadata": {
    "scrolled": false
   },
   "outputs": [
    {
     "data": {
      "text/html": [
       "<div>\n",
       "<style scoped>\n",
       "    .dataframe tbody tr th:only-of-type {\n",
       "        vertical-align: middle;\n",
       "    }\n",
       "\n",
       "    .dataframe tbody tr th {\n",
       "        vertical-align: top;\n",
       "    }\n",
       "\n",
       "    .dataframe thead th {\n",
       "        text-align: right;\n",
       "    }\n",
       "</style>\n",
       "<table border=\"1\" class=\"dataframe\">\n",
       "  <thead>\n",
       "    <tr style=\"text-align: right;\">\n",
       "      <th></th>\n",
       "      <th>Image_path</th>\n",
       "      <th>count</th>\n",
       "    </tr>\n",
       "  </thead>\n",
       "  <tbody>\n",
       "    <tr>\n",
       "      <th>0</th>\n",
       "      <td>C:\\Users\\15739\\Desktop\\UNL - all\\Fall 2021\\Tas...</td>\n",
       "      <td>0.193539</td>\n",
       "    </tr>\n",
       "    <tr>\n",
       "      <th>1</th>\n",
       "      <td>C:\\Users\\15739\\Desktop\\UNL - all\\Fall 2021\\Tas...</td>\n",
       "      <td>0.190623</td>\n",
       "    </tr>\n",
       "    <tr>\n",
       "      <th>2</th>\n",
       "      <td>C:\\Users\\15739\\Desktop\\UNL - all\\Fall 2021\\Tas...</td>\n",
       "      <td>0.000000</td>\n",
       "    </tr>\n",
       "    <tr>\n",
       "      <th>3</th>\n",
       "      <td>C:\\Users\\15739\\Desktop\\UNL - all\\Fall 2021\\Tas...</td>\n",
       "      <td>0.037391</td>\n",
       "    </tr>\n",
       "    <tr>\n",
       "      <th>4</th>\n",
       "      <td>C:\\Users\\15739\\Desktop\\UNL - all\\Fall 2021\\Tas...</td>\n",
       "      <td>0.345988</td>\n",
       "    </tr>\n",
       "  </tbody>\n",
       "</table>\n",
       "</div>"
      ],
      "text/plain": [
       "                                          Image_path     count\n",
       "0  C:\\Users\\15739\\Desktop\\UNL - all\\Fall 2021\\Tas...  0.193539\n",
       "1  C:\\Users\\15739\\Desktop\\UNL - all\\Fall 2021\\Tas...  0.190623\n",
       "2  C:\\Users\\15739\\Desktop\\UNL - all\\Fall 2021\\Tas...  0.000000\n",
       "3  C:\\Users\\15739\\Desktop\\UNL - all\\Fall 2021\\Tas...  0.037391\n",
       "4  C:\\Users\\15739\\Desktop\\UNL - all\\Fall 2021\\Tas...  0.345988"
      ]
     },
     "execution_count": 9,
     "metadata": {},
     "output_type": "execute_result"
    }
   ],
   "source": [
    "# head of valid data\n",
    "Valid_df.reset_index(drop = True).head()"
   ]
  },
  {
   "cell_type": "markdown",
   "id": "compliant-transport",
   "metadata": {},
   "source": [
    "#### Prepping the data to input into the network"
   ]
  },
  {
   "cell_type": "code",
   "execution_count": 10,
   "id": "nearby-crime",
   "metadata": {},
   "outputs": [],
   "source": [
    "# define the data generators for train and validation sets\n",
    "train_gen = ImageDataGenerator(rescale = 1./255.)\n",
    "validation_gen = ImageDataGenerator(rescale = 1./255.)"
   ]
  },
  {
   "cell_type": "code",
   "execution_count": 12,
   "id": "dynamic-suffering",
   "metadata": {},
   "outputs": [],
   "source": [
    "# import one data file and see the values of the scales\n",
    "\n",
    "image_path = r\"C:\\Users\\15739\\Desktop\\UNL - all\\Fall 2021\\Tasselnet\\New_Data\\Eric\\Sub Images\\190812_djifc6310s_Aug12_NE_row_1_range_1_rep_2_1.jpg\""
   ]
  },
  {
   "cell_type": "code",
   "execution_count": 13,
   "id": "sonic-briefing",
   "metadata": {},
   "outputs": [
    {
     "name": "stdout",
     "output_type": "stream",
     "text": [
      "<class 'numpy.ndarray'>\n",
      "max value 157\n",
      "min value 30\n"
     ]
    }
   ],
   "source": [
    "# actually, should the images be even scaled?\n",
    "\n",
    "image_read = plt.imread(image_path)\n",
    "\n",
    "print(type(image_read))\n",
    "\n",
    "# maximum value in the image array\n",
    "print(\"max value\", np.max(image_read))\n",
    "\n",
    "# minimum value in the image array\n",
    "print(\"min value\", np.min(image_read))\n",
    "\n",
    "# So the images should be scaled"
   ]
  },
  {
   "cell_type": "code",
   "execution_count": 14,
   "id": "uniform-article",
   "metadata": {},
   "outputs": [
    {
     "name": "stdout",
     "output_type": "stream",
     "text": [
      "Found 120362 validated image filenames.\n"
     ]
    }
   ],
   "source": [
    "# use flowfrom dataframe\n",
    "\n",
    "# for training images\n",
    "Train_generator = train_gen.flow_from_dataframe(dataframe = Train_df, directory = None, x_col = \"Image_path\", \n",
    "                                                y_col = \"count\", target_size = (32,32), class_mode = \"raw\")"
   ]
  },
  {
   "cell_type": "code",
   "execution_count": 15,
   "id": "blind-burst",
   "metadata": {},
   "outputs": [
    {
     "name": "stdout",
     "output_type": "stream",
     "text": [
      "Found 30091 validated image filenames.\n"
     ]
    }
   ],
   "source": [
    "# for validation images\n",
    "Valid_generator = validation_gen.flow_from_dataframe(dataframe = Valid_df, directory = None, x_col = \"Image_path\", \n",
    "                                                y_col = \"count\", target_size = (32,32), class_mode = \"raw\")"
   ]
  },
  {
   "cell_type": "markdown",
   "id": "temporal-ordinance",
   "metadata": {},
   "source": [
    "#### Define a CNN model"
   ]
  },
  {
   "cell_type": "code",
   "execution_count": 39,
   "id": "990ea09d",
   "metadata": {},
   "outputs": [],
   "source": [
    "# import the model here\n",
    "model = keras.models.load_model('tasselnet1_overlapping_w32.h5')"
   ]
  },
  {
   "cell_type": "code",
   "execution_count": 40,
   "id": "b8c33ccc",
   "metadata": {
    "scrolled": true
   },
   "outputs": [
    {
     "name": "stdout",
     "output_type": "stream",
     "text": [
      "Model: \"sequential\"\n",
      "_________________________________________________________________\n",
      "Layer (type)                 Output Shape              Param #   \n",
      "=================================================================\n",
      "conv2d (Conv2D)              (None, 32, 32, 32)        896       \n",
      "_________________________________________________________________\n",
      "activation (Activation)      (None, 32, 32, 32)        0         \n",
      "_________________________________________________________________\n",
      "conv2d_1 (Conv2D)            (None, 30, 30, 32)        9248      \n",
      "_________________________________________________________________\n",
      "activation_1 (Activation)    (None, 30, 30, 32)        0         \n",
      "_________________________________________________________________\n",
      "max_pooling2d (MaxPooling2D) (None, 15, 15, 32)        0         \n",
      "_________________________________________________________________\n",
      "dropout (Dropout)            (None, 15, 15, 32)        0         \n",
      "_________________________________________________________________\n",
      "conv2d_2 (Conv2D)            (None, 15, 15, 64)        18496     \n",
      "_________________________________________________________________\n",
      "activation_2 (Activation)    (None, 15, 15, 64)        0         \n",
      "_________________________________________________________________\n",
      "conv2d_3 (Conv2D)            (None, 13, 13, 64)        36928     \n",
      "_________________________________________________________________\n",
      "activation_3 (Activation)    (None, 13, 13, 64)        0         \n",
      "_________________________________________________________________\n",
      "max_pooling2d_1 (MaxPooling2 (None, 6, 6, 64)          0         \n",
      "_________________________________________________________________\n",
      "dropout_1 (Dropout)          (None, 6, 6, 64)          0         \n",
      "_________________________________________________________________\n",
      "flatten (Flatten)            (None, 2304)              0         \n",
      "_________________________________________________________________\n",
      "dense (Dense)                (None, 512)               1180160   \n",
      "_________________________________________________________________\n",
      "activation_4 (Activation)    (None, 512)               0         \n",
      "_________________________________________________________________\n",
      "dropout_2 (Dropout)          (None, 512)               0         \n",
      "_________________________________________________________________\n",
      "dense_1 (Dense)              (None, 1)                 513       \n",
      "_________________________________________________________________\n",
      "activation_5 (Activation)    (None, 1)                 0         \n",
      "=================================================================\n",
      "Total params: 1,246,241\n",
      "Trainable params: 1,246,241\n",
      "Non-trainable params: 0\n",
      "_________________________________________________________________\n"
     ]
    }
   ],
   "source": [
    "# summary of the model\n",
    "model.summary()"
   ]
  },
  {
   "cell_type": "code",
   "execution_count": 37,
   "id": "a4f987a3",
   "metadata": {},
   "outputs": [
    {
     "data": {
      "text/plain": [
       "<keras.layers.core.Activation at 0x1d7bfee93d0>"
      ]
     },
     "execution_count": 37,
     "metadata": {},
     "output_type": "execute_result"
    }
   ],
   "source": [
    "conv_base = model.layers[-1]\n",
    "conv_base"
   ]
  },
  {
   "cell_type": "code",
   "execution_count": 17,
   "id": "d770e676",
   "metadata": {},
   "outputs": [
    {
     "name": "stdout",
     "output_type": "stream",
     "text": [
      "conv2d\n",
      "activation\n",
      "conv2d_1\n",
      "activation_1\n",
      "max_pooling2d\n",
      "dropout\n",
      "conv2d_2\n",
      "activation_2\n",
      "conv2d_3\n",
      "activation_3\n",
      "max_pooling2d_1\n",
      "dropout_1\n",
      "flatten\n",
      "dense\n",
      "activation_4\n",
      "dropout_2\n",
      "dense_1\n",
      "activation_5\n"
     ]
    }
   ],
   "source": [
    "for layer in model.layers:\n",
    "    print(layer.name)"
   ]
  },
  {
   "cell_type": "code",
   "execution_count": 18,
   "id": "soviet-debut",
   "metadata": {},
   "outputs": [],
   "source": [
    "# let's do early stopping\n",
    "# call_backs = keras.callbacks.EarlyStopping(monitor = \"val_loss\",patience = 10,restore_best_weights=True)"
   ]
  },
  {
   "cell_type": "code",
   "execution_count": 19,
   "id": "satisfied-tracker",
   "metadata": {},
   "outputs": [],
   "source": [
    "# # compile the model\n",
    "\n",
    "# opt = keras.optimizers.Adam(learning_rate=0.00001)\n",
    "# model.compile(loss='mean_squared_error', optimizer=opt, metrics = ['mean_absolute_error'])"
   ]
  },
  {
   "cell_type": "code",
   "execution_count": 20,
   "id": "announced-turner",
   "metadata": {},
   "outputs": [],
   "source": [
    "# add early stopping\n",
    "# es = EarlyStopping(monitor='val_loss', restore_best_weights = True, verbose=1, patience=5)"
   ]
  },
  {
   "cell_type": "code",
   "execution_count": 21,
   "id": "ideal-wonder",
   "metadata": {},
   "outputs": [],
   "source": [
    "# step_train=Train_generator.n//Train_generator.batch_size\n",
    "# step_valid=Valid_generator.n//Valid_generator.batch_size"
   ]
  },
  {
   "cell_type": "code",
   "execution_count": 41,
   "id": "ruled-berkeley",
   "metadata": {
    "scrolled": false
   },
   "outputs": [],
   "source": [
    "# # fit the model\n",
    "# history = model.fit(Train_generator,\n",
    "#                     steps_per_epoch = step_train,\n",
    "#           epochs = 50, callbacks = [es],\n",
    "#           validation_data = Valid_generator,\n",
    "#                    validation_steps = step_valid)"
   ]
  },
  {
   "cell_type": "code",
   "execution_count": 23,
   "id": "private-theater",
   "metadata": {},
   "outputs": [],
   "source": [
    "model.save('tasselnet_newdata.h5')"
   ]
  },
  {
   "cell_type": "code",
   "execution_count": 23,
   "id": "fundamental-maker",
   "metadata": {},
   "outputs": [],
   "source": [
    "# extract the training and validation MAEs\n",
    "train_mae = history.history['mean_absolute_error']\n",
    "valid_mae = history.history['val_mean_absolute_error']\n"
   ]
  },
  {
   "cell_type": "code",
   "execution_count": 24,
   "id": "serial-challenge",
   "metadata": {},
   "outputs": [],
   "source": [
    "epochs = range(1, len(train_mae) + 1)"
   ]
  },
  {
   "cell_type": "code",
   "execution_count": 25,
   "id": "complimentary-frame",
   "metadata": {},
   "outputs": [
    {
     "data": {
      "text/plain": [
       "[0.3673577606678009,\n",
       " 0.25474074482917786,\n",
       " 0.23998908698558807,\n",
       " 0.236332967877388,\n",
       " 0.24204128980636597,\n",
       " 0.26622474193573,\n",
       " 0.27543359994888306,\n",
       " 0.27726638317108154,\n",
       " 0.2784062623977661,\n",
       " 0.27908915281295776,\n",
       " 0.2795439660549164,\n",
       " 0.27978992462158203,\n",
       " 0.2795967757701874,\n",
       " 0.2799103260040283,\n",
       " 0.2800183892250061,\n",
       " 0.2801983654499054,\n",
       " 0.2800059914588928,\n",
       " 0.2800086438655853,\n",
       " 0.2799626588821411,\n",
       " 0.27995288372039795,\n",
       " 0.2799457609653473,\n",
       " 0.27983418107032776,\n",
       " 0.2800043225288391,\n",
       " 0.27992159128189087]"
      ]
     },
     "execution_count": 25,
     "metadata": {},
     "output_type": "execute_result"
    }
   ],
   "source": [
    "train_mae"
   ]
  },
  {
   "cell_type": "code",
   "execution_count": 26,
   "id": "awful-lawyer",
   "metadata": {},
   "outputs": [
    {
     "data": {
      "text/plain": [
       "[0.23846282064914703,\n",
       " 0.23463761806488037,\n",
       " 0.22873622179031372,\n",
       " 0.2309427708387375,\n",
       " 0.23797525465488434,\n",
       " 0.23988716304302216,\n",
       " 0.23504191637039185,\n",
       " 0.2651231288909912,\n",
       " 0.23120905458927155,\n",
       " 0.3696458339691162,\n",
       " 0.2639038562774658,\n",
       " 0.3279123604297638,\n",
       " 0.2979472577571869,\n",
       " 0.2720542848110199,\n",
       " 0.26597246527671814,\n",
       " 0.258639931678772,\n",
       " 0.31419235467910767,\n",
       " 0.32499080896377563,\n",
       " 0.2718646824359894,\n",
       " 0.32090845704078674,\n",
       " 0.2376278042793274,\n",
       " 0.23937585949897766,\n",
       " 0.23681141436100006,\n",
       " 0.23399265110492706]"
      ]
     },
     "execution_count": 26,
     "metadata": {},
     "output_type": "execute_result"
    }
   ],
   "source": [
    "valid_mae"
   ]
  },
  {
   "cell_type": "code",
   "execution_count": 27,
   "id": "victorian-keyboard",
   "metadata": {},
   "outputs": [
    {
     "data": {
      "image/png": "[encoded data removed]",
      "text/plain": [
       "<Figure size 432x288 with 1 Axes>"
      ]
     },
     "metadata": {
      "needs_background": "light"
     },
     "output_type": "display_data"
    }
   ],
   "source": [
    "plt.plot(epochs, train_mae, label = \"Training mae\")\n",
    "plt.plot(epochs, valid_mae, label = \"Validation mae\")\n",
    "plt.title(\"mae learning curves\")\n",
    "plt.legend()\n",
    "plt.show()"
   ]
  }
 ],
 "metadata": {
  "kernelspec": {
   "display_name": "gayarad",
   "language": "python",
   "name": "gayarad"
  },
  "language_info": {
   "codemirror_mode": {
    "name": "ipython",
    "version": 3
   },
   "file_extension": ".py",
   "mimetype": "text/x-python",
   "name": "python",
   "nbconvert_exporter": "python",
   "pygments_lexer": "ipython3",
   "version": "3.8.8"
  }
 },
 "nbformat": 4,
 "nbformat_minor": 5
}
